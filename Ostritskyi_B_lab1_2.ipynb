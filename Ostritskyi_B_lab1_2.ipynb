{
  "nbformat": 4,
  "nbformat_minor": 0,
  "metadata": {
    "colab": {
      "provenance": [],
      "authorship_tag": "ABX9TyOR0gmUOTLWW7tDtqSkgl1Z",
      "include_colab_link": true
    },
    "kernelspec": {
      "name": "python3",
      "display_name": "Python 3"
    },
    "language_info": {
      "name": "python"
    }
  },
  "cells": [
    {
      "cell_type": "markdown",
      "metadata": {
        "id": "view-in-github",
        "colab_type": "text"
      },
      "source": [
        "<a href=\"https://colab.research.google.com/github/pro100chelick/Kr_OstritskiyBogdan_V4/blob/main/Ostritskyi_B_lab1_2.ipynb\" target=\"_parent\"><img src=\"https://colab.research.google.com/assets/colab-badge.svg\" alt=\"Open In Colab\"/></a>"
      ]
    },
    {
      "cell_type": "code",
      "execution_count": null,
      "metadata": {
        "colab": {
          "base_uri": "https://localhost:8080/"
        },
        "id": "weijqMGe-0FX",
        "outputId": "6fa1bcb0-70de-457f-e395-faf444d70aec"
      },
      "outputs": [
        {
          "output_type": "stream",
          "name": "stdout",
          "text": [
            "Введіть номер місяця (1-12): 13\n",
            "Невірний номер місяця!\n"
          ]
        }
      ],
      "source": [
        "month = int(input(\"Введіть номер місяця (1-12): \"))\n",
        "\n",
        "if 3 <= month <= 5:\n",
        "    print(\"Spring\")\n",
        "elif 6 <= month <= 8:\n",
        "    print(\"Summer\")\n",
        "elif 9 <= month <= 11:\n",
        "    print(\"Autumn\")\n",
        "elif month == 12 or month == 1 or month == 2:\n",
        "    print(\"Winter\")\n",
        "else:\n",
        "    print(\"Невірний номер місяця!\")\n"
      ]
    }
  ]
}